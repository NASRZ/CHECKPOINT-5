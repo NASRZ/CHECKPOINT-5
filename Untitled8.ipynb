{
 "cells": [
  {
   "cell_type": "code",
   "execution_count": 3,
   "id": "b5f7e491",
   "metadata": {},
   "outputs": [
    {
     "name": "stdout",
     "output_type": "stream",
     "text": [
      "Original array: array('i', [1, 3, 5, 3, 7, 1, 9, 3])\n",
      "\n",
      "[1, 3, 5, 3, 7, 1, 9, 3]\n"
     ]
    }
   ],
   "source": [
    "from array import *\n",
    "array_num = array('i', [1, 3, 5, 3, 7, 1, 9, 3])\n",
    "print(\"Original array: \"+str(array_num))\n",
    "num_list = array_num.tolist()\n",
    "print(\"\")\n",
    "print(num_list)"
   ]
  },
  {
   "cell_type": "code",
   "execution_count": 6,
   "id": "44ff5537",
   "metadata": {},
   "outputs": [
    {
     "name": "stdout",
     "output_type": "stream",
     "text": [
      "Original:\n",
      "[[0 1 2]\n",
      " [3 4 5]\n",
      " [6 7 8]]\n",
      "\n",
      "12\n"
     ]
    }
   ],
   "source": [
    "import numpy as np\n",
    "m = np.arange(9).reshape(3,3)\n",
    "print(\"Original:\")\n",
    "print(m)\n",
    "result =  np.trace(m)\n",
    "print(\"\")\n",
    "print(result)\n"
   ]
  },
  {
   "cell_type": "code",
   "execution_count": 9,
   "id": "c7a8a704",
   "metadata": {},
   "outputs": [
    {
     "name": "stdout",
     "output_type": "stream",
     "text": [
      "Original: \n",
      "[[ 0 10 20]\n",
      " [20 30 40]]\n",
      " bigger than 10 = [20 20 30 40]\n"
     ]
    }
   ],
   "source": [
    "import numpy as np\n",
    "x = np.array([[0, 10, 20], [20, 30, 40]])\n",
    "print(\"Original: \")\n",
    "print(x)\n",
    "print(\" bigger than 10 =\", x[x>10])\n"
   ]
  },
  {
   "cell_type": "code",
   "execution_count": 13,
   "id": "0448377f",
   "metadata": {},
   "outputs": [
    {
     "name": "stdout",
     "output_type": "stream",
     "text": [
      "Original matrix:\n",
      "\n",
      "[[0.55051466 0.49030415 0.42188646 0.60064183 0.59064494 0.09255204\n",
      "  0.91864635 0.49226631 0.182715   0.99694508]\n",
      " [0.32030038 0.3390773  0.75739598 0.45704409 0.09429035 0.06910981\n",
      "  0.78721124 0.84647815 0.40034356 0.67206966]\n",
      " [0.32965009 0.47811884 0.74948945 0.90082322 0.0820854  0.08312562\n",
      "  0.73656857 0.71705008 0.60946966 0.38285831]\n",
      " [0.14284817 0.15454627 0.88206474 0.01979272 0.54604542 0.84608192\n",
      "  0.33365671 0.15701293 0.16657045 0.09914498]\n",
      " [0.26174188 0.37454611 0.79995213 0.68287439 0.10765106 0.74165906\n",
      "  0.08023354 0.73782742 0.7248055  0.91749057]]\n",
      "[[ 0.01680298 -0.04340753 -0.11182523  0.06693015  0.05693325 -0.44115964\n",
      "   0.38493467 -0.04144537 -0.35099669  0.4632334 ]\n",
      " [-0.15403167 -0.13525475  0.28306393 -0.01728796 -0.3800417  -0.40522224\n",
      "   0.31287919  0.3721461  -0.07398849  0.19773761]\n",
      " [-0.17727383 -0.02880508  0.24256553  0.39389929 -0.42483852 -0.42379831\n",
      "   0.22964464  0.21012616  0.10254573 -0.12406561]\n",
      " [-0.19192826 -0.18023017  0.54728831 -0.31498371  0.21126899  0.51130549\n",
      "  -0.00111972 -0.17776351 -0.16820598 -0.23563145]\n",
      " [-0.28113629 -0.16833205  0.25707396  0.13999622 -0.4352271   0.19878089\n",
      "  -0.46264462  0.19494925  0.18192734  0.3746124 ]]\n"
     ]
    }
   ],
   "source": [
    "import numpy as np\n",
    "print(\"Original matrix:\\n\")\n",
    "X = np.random.rand(5, 10)\n",
    "print(X)\n",
    "Y = X - X.mean(axis=1, keepdims=True)\n",
    "print(Y)"
   ]
  },
  {
   "cell_type": "code",
   "execution_count": 24,
   "id": "b648c8fa",
   "metadata": {},
   "outputs": [
    {
     "name": "stdout",
     "output_type": "stream",
     "text": [
      "[[46. 36.]\n",
      " [ 9. 30.]]\n"
     ]
    }
   ],
   "source": [
    "a=np.array([[12,13],[5,14]],dtype=np.float64 )\n",
    "b=np.array([[34,23],[4,16]],dtype=np.float64 )\n",
    "c= np.zeros((2,2))\n",
    "for x in range (len(a)):\n",
    "    for y in range (len(a)):\n",
    "        c[x][y]=a[x][y]+b[x][y]\n",
    "    \n",
    "print (c)"
   ]
  },
  {
   "cell_type": "code",
   "execution_count": null,
   "id": "306b5a90",
   "metadata": {},
   "outputs": [],
   "source": []
  },
  {
   "cell_type": "code",
   "execution_count": null,
   "id": "0787e1ec",
   "metadata": {},
   "outputs": [],
   "source": []
  }
 ],
 "metadata": {
  "kernelspec": {
   "display_name": "Python 3",
   "language": "python",
   "name": "python3"
  },
  "language_info": {
   "codemirror_mode": {
    "name": "ipython",
    "version": 3
   },
   "file_extension": ".py",
   "mimetype": "text/x-python",
   "name": "python",
   "nbconvert_exporter": "python",
   "pygments_lexer": "ipython3",
   "version": "3.8.8"
  }
 },
 "nbformat": 4,
 "nbformat_minor": 5
}
